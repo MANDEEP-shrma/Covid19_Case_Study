{
 "cells": [
  {
   "cell_type": "markdown",
   "id": "0e0e446e",
   "metadata": {},
   "source": [
    "# COVID-19 CASE STUDY.\n"
   ]
  },
  {
   "cell_type": "markdown",
   "id": "c6787b9c",
   "metadata": {},
   "source": [
    "# DATA ANALYSIS PROBLEMS\n"
   ]
  },
  {
   "cell_type": "markdown",
   "id": "11776060",
   "metadata": {},
   "source": [
    "## Question 1 :- DATA LOADING.\n"
   ]
  },
  {
   "cell_type": "markdown",
   "id": "9693ae13",
   "metadata": {},
   "source": [
    "### Q1.1 :- How do you load the COVID-19 datasets for confirmed cases,deaths,and recoveries into python using Pandas?\n",
    "\n",
    "Ans :- We can load all the files using .read_csv() method from the pandas in their respective variables.\n"
   ]
  },
  {
   "cell_type": "code",
   "execution_count": 3,
   "id": "be65aeda",
   "metadata": {},
   "outputs": [
    {
     "ename": "ModuleNotFoundError",
     "evalue": "No module named 'matplotlib'",
     "output_type": "error",
     "traceback": [
      "\u001b[31m---------------------------------------------------------------------------\u001b[39m",
      "\u001b[31mModuleNotFoundError\u001b[39m                       Traceback (most recent call last)",
      "\u001b[36mCell\u001b[39m\u001b[36m \u001b[39m\u001b[32mIn[3]\u001b[39m\u001b[32m, line 2\u001b[39m\n\u001b[32m      1\u001b[39m \u001b[38;5;28;01mimport\u001b[39;00m\u001b[38;5;250m \u001b[39m\u001b[34;01mpandas\u001b[39;00m\u001b[38;5;250m \u001b[39m\u001b[38;5;28;01mas\u001b[39;00m\u001b[38;5;250m \u001b[39m\u001b[34;01mpd\u001b[39;00m\n\u001b[32m----> \u001b[39m\u001b[32m2\u001b[39m \u001b[38;5;28;01mimport\u001b[39;00m\u001b[38;5;250m \u001b[39m\u001b[34;01mmatplotlib\u001b[39;00m\u001b[34;01m.\u001b[39;00m\u001b[34;01mpyplot\u001b[39;00m\u001b[38;5;250m \u001b[39m\u001b[38;5;28;01mas\u001b[39;00m\u001b[38;5;250m \u001b[39m\u001b[34;01mplt\u001b[39;00m\n\u001b[32m      4\u001b[39m \u001b[38;5;66;03m## loading the files\u001b[39;00m\n\u001b[32m      5\u001b[39m confirmed_cases_data = pd.read_csv(\u001b[33m\"\u001b[39m\u001b[33mcovid_19_confirmed_v1_lyst1747728690432.csv\u001b[39m\u001b[33m\"\u001b[39m)\n",
      "\u001b[31mModuleNotFoundError\u001b[39m: No module named 'matplotlib'"
     ]
    }
   ],
   "source": [
    "import pandas as pd\n",
    "import matplotlib.pyplot as plt\n",
    "\n",
    "## loading the files\n",
    "confirmed_cases_data = pd.read_csv(\"covid_19_confirmed_v1_lyst1747728690432.csv\")\n",
    "\n"
   ]
  },
  {
   "cell_type": "code",
   "execution_count": null,
   "id": "cd0d3368",
   "metadata": {},
   "outputs": [],
   "source": [
    "death_cases_data = pd.read_csv(\"covid_19_deaths_v1_lyst1747728711771.csv\")"
   ]
  },
  {
   "cell_type": "code",
   "execution_count": null,
   "id": "71c44ae0",
   "metadata": {},
   "outputs": [],
   "source": [
    "recovered_cases_data = pd.read_csv(\"covid_19_recovered_v1_lyst1747728719904.csv\")"
   ]
  },
  {
   "cell_type": "markdown",
   "id": "d1e73e1b",
   "metadata": {},
   "source": [
    "## Q 2 :- Data Exploration.\n"
   ]
  },
  {
   "cell_type": "markdown",
   "id": "e1efdcec",
   "metadata": {},
   "source": [
    "### Q 2.1 :- After loading the datasets, what is the structure of each dataset in terms of rows , columns, and datatypes.\n",
    "\n",
    "Ans :- I am using .info() method to show the overall structure and\n",
    "for better idea of rows and columns count using .shape attribute\n",
    "and .dtypes attribute for the types of each column.\n"
   ]
  },
  {
   "cell_type": "code",
   "execution_count": 51,
   "id": "3f09f3a4",
   "metadata": {},
   "outputs": [
    {
     "name": "stdout",
     "output_type": "stream",
     "text": [
      "Confirmed Dataset :\n",
      "<class 'pandas.core.frame.DataFrame'>\n",
      "RangeIndex: 276 entries, 0 to 275\n",
      "Columns: 498 entries, Province/State to 5/29/21\n",
      "dtypes: float64(2), int64(494), object(2)\n",
      "memory usage: 1.0+ MB\n",
      "\n",
      "Shape:  (276, 498)\n",
      "\n",
      "Types:  Province/State     object\n",
      "Country/Region     object\n",
      "Lat               float64\n",
      "Long              float64\n",
      "1/22/20             int64\n",
      "                   ...   \n",
      "5/25/21             int64\n",
      "5/26/21             int64\n",
      "5/27/21             int64\n",
      "5/28/21             int64\n",
      "5/29/21             int64\n",
      "Length: 498, dtype: object\n",
      "--------------------------------------------------------------------\n",
      "Deaths Dataset :\n",
      "<class 'pandas.core.frame.DataFrame'>\n",
      "RangeIndex: 277 entries, 0 to 276\n",
      "Columns: 498 entries, Column1 to Column498\n",
      "dtypes: object(498)\n",
      "memory usage: 1.1+ MB\n",
      "\n",
      "Shape:  (277, 498)\n",
      "\n",
      "Types:  Column1      object\n",
      "Column2      object\n",
      "Column3      object\n",
      "Column4      object\n",
      "Column5      object\n",
      "              ...  \n",
      "Column494    object\n",
      "Column495    object\n",
      "Column496    object\n",
      "Column497    object\n",
      "Column498    object\n",
      "Length: 498, dtype: object\n",
      "--------------------------------------------------------------------\n",
      "Recovered Dataset :\n",
      "<class 'pandas.core.frame.DataFrame'>\n",
      "RangeIndex: 262 entries, 0 to 261\n",
      "Columns: 498 entries, Column1 to Column498\n",
      "dtypes: object(498)\n",
      "memory usage: 1019.5+ KB\n",
      "\n",
      "Shape:  (262, 498)\n",
      "\n",
      "Types:  Column1      object\n",
      "Column2      object\n",
      "Column3      object\n",
      "Column4      object\n",
      "Column5      object\n",
      "              ...  \n",
      "Column494    object\n",
      "Column495    object\n",
      "Column496    object\n",
      "Column497    object\n",
      "Column498    object\n",
      "Length: 498, dtype: object\n",
      "--------------------------------------------------------------------\n"
     ]
    }
   ],
   "source": [
    "print(\"Confirmed Dataset :\")\n",
    "confirmed_cases_data.info()\n",
    "print(\"\\nShape: \",confirmed_cases_data.shape)\n",
    "print(\"\\nTypes: \",confirmed_cases_data.dtypes)\n",
    "print(\"--------------------------------------------------------------------\")\n",
    "\n",
    "print(\"Deaths Dataset :\")\n",
    "death_cases_data.info()\n",
    "print(\"\\nShape: \",death_cases_data.shape)\n",
    "print(\"\\nTypes: \",death_cases_data.dtypes)\n",
    "print(\"--------------------------------------------------------------------\")\n",
    "\n",
    "\n",
    "print(\"Recovered Dataset :\")\n",
    "recovered_cases_data.info()\n",
    "print(\"\\nShape: \",recovered_cases_data.shape)\n",
    "print(\"\\nTypes: \",recovered_cases_data.dtypes)\n",
    "print(\"--------------------------------------------------------------------\")"
   ]
  },
  {
   "cell_type": "markdown",
   "id": "5138965f",
   "metadata": {},
   "source": [
    "### Q 2.2 :- Generate plots of confirmed cases over time for the top countries.\n",
    "\n",
    "Ans :-\n",
    "\n",
    "1. I am thinking of grouping the data by country, using sum aggregation, because it will give me all Provinces cases in one row of country.\n",
    "\n",
    "2. So first i will drop the lat,long,province/state column because we have to convert our date columns types from int to datetime and we can't convert these three.\n",
    "\n",
    "3. Converting the columns to datetime in mm/dd/yy format.\n",
    "\n",
    "4. Now we need the top countries (we take top 5) so we for that we need to get the cases of each country from the last date.\n",
    "\n",
    "5. So i will select the last column and retrive all rows for that column only.\n",
    "\n",
    "6. Now I will sort the data in descending order so it will give me the country with highest cases at top.\n",
    "\n",
    "7. Now I use .head(5) to retrive the top 5 data and choose their index only because I need just the country names.\n",
    "\n",
    "8. SEARCHED :- I don't remembered how to plot multiple result so i googled this and go to know that we can put loop.\n",
    "\n",
    "9. In graph at x-axis we have all the dates and y-axis represents the case count\n"
   ]
  },
  {
   "cell_type": "code",
   "execution_count": 94,
   "id": "89810abb",
   "metadata": {},
   "outputs": [
    {
     "data": {
      "image/png": "[encoded data removed]",
      "text/plain": [
       "<Figure size 1200x600 with 1 Axes>"
      ]
     },
     "metadata": {},
     "output_type": "display_data"
    }
   ],
   "source": [
    "# Droping latitude and longitude columns \n",
    "country_confirmed = confirmed_cases_data.drop(['Lat', 'Long','Province/State'], axis=1)\n",
    "\n",
    "# Sum over all provinces/states for each country\n",
    "country_confirmed = country_confirmed.groupby('Country/Region').sum()\n",
    "\n",
    "# 3. Convert date column names to datetime\n",
    "country_confirmed.columns = pd.to_datetime(country_confirmed.columns,format='%m/%d/%y', errors='coerce')\n",
    "\n",
    "\n",
    "# Get the last date column (already in datetime format)\n",
    "last_date = country_confirmed.columns[-1]\n",
    "\n",
    "# Get the data for the last date for all countries\n",
    "last_date_data = country_confirmed[last_date]\n",
    "\n",
    "\n",
    "# Sort the values in descending order to get the top countries\n",
    "countries_with_highest_cases = last_date_data.sort_values(ascending=False)\n",
    "\n",
    "# Pick top 5 countries\n",
    "top_5_countries = countries_with_highest_cases.head(5).index\n",
    "\n",
    "\n",
    "# Plot confirmed cases over time for the top 5 countries\n",
    "plt.figure(figsize=(12, 6))\n",
    "\n",
    "for country in top_5_countries:\n",
    "    plt.plot(country_confirmed.columns, country_confirmed.loc[country], label=country)\n",
    "\n",
    "plt.title('Confirmed COVID-19 Cases Over Time (Top 5 Countries)')\n",
    "plt.xlabel('Date')\n",
    "plt.ylabel('Confirmed Cases')\n",
    "plt.legend()\n",
    "plt.show()\n"
   ]
  },
  {
   "cell_type": "markdown",
   "id": "902fa5e5",
   "metadata": {},
   "source": [
    "### Q2.3: Generate plots of confirmed cases over time for China.\n",
    "\n",
    "Ans:\n",
    "\n",
    "1. I already have the whole data aranged and ready so I just choosed the country china.\n"
   ]
  },
  {
   "cell_type": "code",
   "execution_count": 96,
   "id": "787be72d",
   "metadata": {},
   "outputs": [
    {
     "data": {
      "image/png": "[encoded data removed]",
      "text/plain": [
       "<Figure size 1200x600 with 1 Axes>"
      ]
     },
     "metadata": {},
     "output_type": "display_data"
    }
   ],
   "source": [
    "country = 'China'\n",
    "\n",
    "# Plot confirmed cases over time for China\n",
    "plt.figure(figsize=(12, 6))\n",
    "\n",
    "plt.plot(country_confirmed.columns, country_confirmed.loc[country], label=country)\n",
    "\n",
    "plt.title('Confirmed COVID-19 Cases Over Time in China')\n",
    "plt.xlabel('Date')\n",
    "plt.ylabel('Confirmed Cases')\n",
    "plt.legend()\n",
    "plt.show()\n"
   ]
  },
  {
   "cell_type": "markdown",
   "id": "bd1b0727",
   "metadata": {},
   "source": [
    "## Q 3 :- Handling Missing Data\n"
   ]
  },
  {
   "cell_type": "markdown",
   "id": "22335804",
   "metadata": {},
   "source": [
    "### 3.1:- Identify these missing values and replace them using a suitable imputation method, such as forward filling, for time-series data.\n",
    "\n",
    "Ans\n",
    "\n",
    "1. Null data from confirmed\n",
    "   -> Lat and long have 2 , 2 null vals\n",
    "\n",
    "   -> Province/State 190 null vals.\n",
    "\n",
    "   -> country/region have 0 null vals.\n",
    "\n",
    "   -> Check for null values in only the date columns (excluding the first 4 columns)\n",
    "\n",
    "   -> and there are no null data.\n",
    "\n",
    "2. Null data status from deaths file\n",
    "   -> Province/state 190 null values\n",
    "   -> Lat / Long 2 2 null values\n",
    "   -> 4/20/20 have 1 null values.\n",
    "\n",
    "3. Null data status from recovered file\n",
    "   -> 191 Null provinces\n",
    "   -> 1 Lat and 1 Long are null\n",
    "   -> 4/20/20 is null\n",
    "\n",
    "I Removed the null data from date columns and also remove the two extra row in both death and recovered each.\n"
   ]
  },
  {
   "cell_type": "code",
   "execution_count": 169,
   "id": "cb96fe4e",
   "metadata": {},
   "outputs": [
    {
     "name": "stdout",
     "output_type": "stream",
     "text": [
      "Province/State    190\n",
      "Country/Region      0\n",
      "Lat                 2\n",
      "Long                2\n",
      "1/22/20             0\n",
      "                 ... \n",
      "5/25/21             0\n",
      "5/26/21             0\n",
      "5/27/21             0\n",
      "5/28/21             0\n",
      "5/29/21             0\n",
      "Length: 498, dtype: int64\n",
      "Null values in date columns:\n",
      "Series([], dtype: int64)\n"
     ]
    }
   ],
   "source": [
    "## First Checking the missing data for Confirmed Cases.\n",
    "print(confirmed_cases_data.isnull().sum())\n",
    "date_columns = confirmed_cases_data.columns[4:]\n",
    "null_counts = confirmed_cases_data[date_columns].isnull().sum()\n",
    "print(\"Null values in date columns:\")\n",
    "print(null_counts[null_counts > 0]) ## creating a list to check that where null_counts > 0 we insert it here.\n",
    "\n",
    "\n",
    "##NO filling done."
   ]
  },
  {
   "cell_type": "code",
   "execution_count": null,
   "id": "76b510a8",
   "metadata": {},
   "outputs": [
    {
     "name": "stdout",
     "output_type": "stream",
     "text": [
      "0\n",
      "Province/State    190\n",
      "Country/Region      0\n",
      "Lat                 2\n",
      "Long                2\n",
      "1/22/20             0\n",
      "                 ... \n",
      "5/25/21             0\n",
      "5/26/21             0\n",
      "5/27/21             0\n",
      "5/28/21             0\n",
      "5/29/21             0\n",
      "Length: 498, dtype: int64\n"
     ]
    }
   ],
   "source": [
    "# Checking null values in the deaths data\n",
    "# We will remove first row from our data assuming that is not the part of data.\n",
    "new_header = death_cases_data.iloc[0]\n",
    "\n",
    "death_data_cleaned = death_cases_data[1:].copy()\n",
    "\n",
    "\n",
    "death_data_cleaned.columns = new_header\n",
    "\n",
    "death_data_cleaned.reset_index(drop=True,inplace=True)\n",
    "\n",
    "death_cases_data = death_data_cleaned\n",
    "\n",
    "## I removed it.\n",
    "death_cases_data.head(10)\n",
    "\n",
    "print(death_cases_data.isnull().sum())\n",
    "# we'll check for all dates\n",
    "death_columns = death_cases_data.columns[4:]\n",
    "count_null = death_cases_data[death_columns].isnull().sum()\n",
    "print(\"Printing columns with null values: \")\n",
    "print(count_null[count_null > 0])\n",
    "\n",
    "\n",
    "\n",
    "# For all date columns, we do the fill, then bfill\n",
    "death_cases_data[death_columns] = death_cases_data[death_columns].ffill(axis=1).bfill(axis=1)\n"
   ]
  },
  {
   "cell_type": "code",
   "execution_count": null,
   "id": "9640ac8a",
   "metadata": {},
   "outputs": [
    {
     "name": "stdout",
     "output_type": "stream",
     "text": [
      "0\n",
      "Province/State    191\n",
      "Country/Region      0\n",
      "Lat                 1\n",
      "Long                1\n",
      "1/22/20             0\n",
      "                 ... \n",
      "5/25/21             0\n",
      "5/26/21             0\n",
      "5/27/21             0\n",
      "5/28/21             0\n",
      "5/29/21             0\n",
      "Length: 498, dtype: int64\n",
      "Series([], dtype: int64)\n"
     ]
    }
   ],
   "source": [
    "#Now we are going to do the same thing with the \n",
    "new_header = recovered_cases_data.iloc[0]\n",
    "\n",
    "recovered_cleaned_data = recovered_cases_data[1:].copy()\n",
    "\n",
    "recovered_cleaned_data.columns = new_header\n",
    "\n",
    "recovered_cleaned_data.reset_index(inplace=True,drop=True)\n",
    "\n",
    "recovered_cases_data = recovered_cleaned_data\n",
    "\n",
    "print(recovered_cases_data.isnull().sum())\n",
    "date_columns = recovered_cases_data.columns[4:]\n",
    "null_count = recovered_cases_data[date_columns].isnull().sum()\n",
    "print(null_count[null_count > 0])\n",
    "\n",
    "\n",
    "## removing null values.\n",
    "recovered_cases_data[date_columns] = recovered_cases_data[date_columns].bfill(axis=1).ffill(axis=1)"
   ]
  },
  {
   "cell_type": "markdown",
   "id": "05f80442",
   "metadata": {},
   "source": [
    "## Q 4:- DATA Cleaning and Preparation.\n"
   ]
  },
  {
   "cell_type": "markdown",
   "id": "d6320f65",
   "metadata": {},
   "source": [
    "### Q4.1: Replace blank values in the province column with “All Provinces.”\n",
    "\n",
    "Ans :-\n",
    "All the null provinces are filled with \"All Provinces\"\n"
   ]
  },
  {
   "cell_type": "code",
   "execution_count": 243,
   "id": "5a0b2f20",
   "metadata": {},
   "outputs": [],
   "source": [
    "## removing blank from confirmed\n",
    "confirmed_cases_data['Province/State'] = confirmed_cases_data['Province/State'].fillna(value=\"All Provinces\")\n",
    "\n",
    "## removing blank Provinces from deaths\n",
    "death_cases_data['Province/State'] = death_cases_data['Province/State'].fillna(value=\"All Provinces\")\n",
    "\n",
    "## removing blank Provinces from recovered\n",
    "recovered_cases_data['Province/State'] = recovered_cases_data['Province/State'].fillna(value=\"All Provinces\")\n"
   ]
  },
  {
   "cell_type": "markdown",
   "id": "2f8f0890",
   "metadata": {},
   "source": [
    "## Q 5 :- INDEPENDENT DATA ANALYSIS\n"
   ]
  },
  {
   "cell_type": "markdown",
   "id": "a70555f8",
   "metadata": {},
   "source": [
    "### Q 5.1 :- Analyze the peak number of daily new cases in Germany, France, and Italy. Which country experienced the highest single-day surge, and when did it occur?\n",
    "\n",
    "Ans :- For the first part of the Question.\n",
    "\n",
    "1. First I will drop the Province/State column.\n",
    "\n",
    "2. To find peak new case each day first we have to find each new cases each day but the data that we have includes the cumulative no of cases so first we have to remove that cumulativeness.\n",
    "\n",
    "3. So that's why I create a copy of our original data.\n",
    "4. now i will retrive the day columns\n",
    "5. Now I will fill all the columns with the value 0.\n",
    "6. Hence now we have data that have 0 in each row,col , now to find daily cases we will subtract yesterday cases with currentday case and will do this for each row . subtraction will go column wise.\n",
    "7. Now we have the data set with daily new cases for each country , but we will retrive the data for only Germany, France, Italy.\n",
    "8. So from our dataset I will retrive that three rows only.\n",
    "9. Now at the final step I need to retrive the max cases from each country so for that I will collect all the columns first(avoiding lat,long)\n",
    "10. Now I will pass this columns in my dataset and collect .max(columnwise) from them.\n",
    "11. I will again pass this columns in my dataset and collect .idxmax(columnwise) indexes of max values from them.\n",
    "12. Now I have printed the data.\n",
    "\n",
    "---\n",
    "\n",
    "Ans :- Second half of the question.\n",
    "\n",
    "1. First I will consider my new_cases_eachday dataset.\n",
    "2. I will pass all the date_columns and try to find max column wise because i need to find max for each row from all the date_columns.\n",
    "3. Now i have the list of all the countries with their max cases\n",
    "4. I will find max from this list (using row wise)\n",
    "5. Now I will retrive the idx of that value. I used idxmax() which gaves me idx of max value without doing two operations.\n",
    "6. I will pass this Country in new_cases_eachday dataset and retrive the idxmax(columnwise)\n",
    "7. I will just say now that give me the index of max value of this country.\n"
   ]
  },
  {
   "cell_type": "code",
   "execution_count": null,
   "id": "a8a25c4f",
   "metadata": {},
   "outputs": [
    {
     "name": "stdout",
     "output_type": "stream",
     "text": [
      "Germany peak daily cases are : 49044.0 on 12/30/20\n",
      "France peak daily cases are : 117900.0 on 4/11/21\n",
      "Italy peak daily cases are : 40902.0 on 11/13/20\n"
     ]
    }
   ],
   "source": [
    "\n",
    "confirmed_cases_data = confirmed_data.drop(['Province/State'],axis=1)\n",
    "\n",
    "new_cases_eachday = confirmed_cases_data.copy()\n",
    "\n",
    "all_day_columns = new_cases_eachday.columns[3:]\n",
    "\n",
    "new_cases_eachday[all_day_columns] = 0 ## this point i have a copy which have no data in day-columns.\n",
    "\n",
    "new_cases_eachday[all_day_columns] = confirmed_cases_data[all_day_columns].diff(axis=1)\n",
    "\n",
    "## Now we have the dataset of daily new cases in whole world.\n",
    "## Now we group the dataset on the basis of Country.\n",
    "new_cases_eachday = new_cases_eachday.groupby('Country/Region').sum()\n",
    "\n",
    "## For example, to get data for Germany, France, and Italy:\n",
    "countries = ['Germany', 'France', 'Italy']\n",
    "country_data = new_cases_eachday.loc[countries]\n",
    "##removing lat and long.\n",
    "date_columns = country_data.columns[2:]\n",
    "\n",
    "# Find the maximum daily new cases and the corresponding date for each country\n",
    "max_cases = country_data[date_columns].max(axis=1) ## find max column wise.\n",
    "max_dates = country_data[date_columns].idxmax(axis=1) ## find index of max values.\n",
    "\n",
    "print(f\"Germany peak daily cases are : {max_cases.iloc[0]} on {max_dates.iloc[0]}\")\n",
    "print(f\"France peak daily cases are : {max_cases.iloc[1]} on {max_dates.iloc[1]}\")\n",
    "print(f\"Italy peak daily cases are : {max_cases.iloc[2]} on {max_dates.iloc[2]}\")"
   ]
  },
  {
   "cell_type": "code",
   "execution_count": null,
   "id": "d082abb9",
   "metadata": {},
   "outputs": [
    {
     "name": "stdout",
     "output_type": "stream",
     "text": [
      "Country/Region\n",
      "Afghanistan           1485.0\n",
      "Albania               1239.0\n",
      "Algeria               1133.0\n",
      "Andorra                299.0\n",
      "Angola                 405.0\n",
      "                       ...  \n",
      "Vietnam                527.0\n",
      "West Bank and Gaza    2884.0\n",
      "Yemen                  174.0\n",
      "Zambia                1796.0\n",
      "Zimbabwe              1365.0\n",
      "Length: 193, dtype: float64\n"
     ]
    }
   ],
   "source": [
    "## Second part of the question.\n",
    "\n",
    "max_cases_from_world = new_cases_eachday[date_columns].max(axis=1)\n",
    "\n",
    "max_cases_country = max_cases_from_world.idxmax()\n",
    "\n",
    "## on which day\n",
    "max_cases_from_turkey_date = new_cases_eachday.loc['Turkey'].idxmax()\n",
    "print(max_cases_from_turkey_date)"
   ]
  },
  {
   "cell_type": "markdown",
   "id": "c3659bd8",
   "metadata": {},
   "source": [
    "### 5.2 :- Compare the recovery rates (recoveries/confirmed cases) between Canada and Australia as of December 31, 2020. Which country showed better management of the pandemic according to this metric?\n",
    "\n",
    "Ans :- It's easy but a long task .\n",
    "\n",
    "1. Acc to my method, first i will group the recovered dataset , and then retrive the canada's and australia's recovered cases from that dataset for the given date.\n",
    "\n",
    "2. Now I will group the confirmation dataset, and then retrive the canada's and australia's confirmed cases from that dataset for the given date.\n",
    "\n",
    "3. Now I will find the recovery rate of Canada by dividing -> canada_recoveries / canada_confirmation\n",
    "\n",
    "4. Now I will find the recovery rate of Australia by dividing -> Australia_confirmation / Australia_confirmation\n",
    "\n",
    "5. Now I have putted a if block to determine the response.\n"
   ]
  },
  {
   "cell_type": "code",
   "execution_count": null,
   "id": "87101e1b",
   "metadata": {},
   "outputs": [
    {
     "name": "stdout",
     "output_type": "stream",
     "text": [
      "Australia managed the pandemic better for the day.\n"
     ]
    }
   ],
   "source": [
    "##------- Recovered Dataset operations\n",
    "## grouped data according to countries of recovered cases\n",
    "grouped_recovered_cases = recovered_cases_data.groupby('Country/Region').sum()\n",
    "\n",
    "## recoveries of canada on dec 31 2020\n",
    "recoveries_of_canada_on_dec31_2020 = grouped_recovered_cases.loc['Canada']['12/31/20']\n",
    "\n",
    "## recoveries of Australia on dec 31 2020\n",
    "recoveries_of_australia_on_dec31_2020 = grouped_recovered_cases.loc['Australia']['12/31/20']\n",
    "\n",
    "\n",
    "## ---- Confirmation dataset operations\n",
    "## Grouped data according to countries of confirmed cases\n",
    "grouped_confirmed_cases = confirmed_cases_data.groupby('Country/Region').sum()\n",
    "\n",
    "## confirmatories of canada on dec 31 2020\n",
    "confirmatories_of_canada_on_dec31_2020 = grouped_confirmed_cases.loc['Canada']['12/31/20']\n",
    "## confirmatories of Australia on dec 31 2020\n",
    "confirmatories_of_australia_on_dec31_2020 = grouped_confirmed_cases.loc['Australia']['12/31/20']\n",
    "\n",
    "\n",
    "##------ Finding the Recovery rates (recovery/confirmatory)\n",
    "## rate of canada \n",
    "recovery_rate_of_canada_on_dec31_2020 = int(recoveries_of_canada_on_dec31_2020) / int(confirmatories_of_canada_on_dec31_2020)\n",
    "\n",
    "## rate of australia\n",
    "recovery_rate_of_australia_on_dec31_2020 = int(recoveries_of_australia_on_dec31_2020) / int(confirmatories_of_australia_on_dec31_2020)\n",
    "\n",
    "if(recovery_rate_of_canada_on_dec31_2020 > recovery_rate_of_australia_on_dec31_2020):\n",
    "    print(\"Canada managed the pandemic better for the day.\")\n",
    "else:\n",
    "    print(\"Australia managed the pandemic better for the day.\")\n",
    "\n"
   ]
  },
  {
   "cell_type": "markdown",
   "id": "ac43fd84",
   "metadata": {},
   "source": [
    "### 5.3: What is the distribution of death rates (deaths/confirmed cases) among provinces in Canada? Identify the province with the highest and lowest death rate as of the latest data point.\n",
    "\n",
    "1. I retrived the Canadas death cases from death data set.\n",
    "2. Then I retrived the Canadas Confirmed cases from confirmed data set.\n",
    "3. Then i retrived the latest date from death dataset.\n",
    "4. Then from the canada_deaths that we have retrived from the main data set , now Iam gonna retrive two columns 1.Province and 2.latest date , with that I will set my provinces as indexes and now I will retrive latest_date column from the resulting set.and convert the values in float type.\n",
    "\n",
    "5. Same for the confirm cases\n",
    "\n",
    "6. Now I divided latest death and latest confirmed to get the death_rate.\n",
    "\n",
    "7. I didn't know about this so googled it, here we have to remove Nan values\n",
    "\n",
    "8. Now simple did before , I will retrvie the index of maxValue and minValue for the provinces.\n"
   ]
  },
  {
   "cell_type": "code",
   "execution_count": 258,
   "id": "f35135e0",
   "metadata": {},
   "outputs": [
    {
     "name": "stdout",
     "output_type": "stream",
     "text": [
      "Province/State\n",
      "Quebec                       0.030090\n",
      "Yukon                        0.023810\n",
      "Manitoba                     0.020693\n",
      "New Brunswick                0.019626\n",
      "Ontario                      0.016193\n",
      "Nova Scotia                  0.015190\n",
      "British Columbia             0.011784\n",
      "Saskatchewan                 0.011557\n",
      "Alberta                      0.009760\n",
      "Nunavut                      0.006173\n",
      "Newfoundland and Labrador    0.004608\n",
      "Northwest Territories        0.000000\n",
      "Grand Princess               0.000000\n",
      "Prince Edward Island         0.000000\n",
      "Repatriated Travellers       0.000000\n",
      "Name: 5/29/21, dtype: float64\n",
      "\n",
      "Province with highest death rate: Quebec\n",
      "Province with lowest death rate: Grand Princess\n"
     ]
    }
   ],
   "source": [
    "## death dataset \n",
    "canada_deaths = death_cases_data[death_cases_data['Country/Region'] == 'Canada']\n",
    "\n",
    "canada_confirmed = confirmed_cases_data[confirmed_cases_data['Country/Region'] == 'Canada']\n",
    "\n",
    "latest_date = death_cases_data.columns[-1]\n",
    "\n",
    "deaths_latest = canada_deaths[['Province/State', latest_date]].set_index('Province/State')[latest_date].astype(float)\n",
    "confirmed_latest = canada_confirmed[['Province/State', latest_date]].set_index('Province/State')[latest_date].astype(float)\n",
    "\n",
    "death_rate = deaths_latest / confirmed_latest\n",
    "\n",
    "## Ai helped me here :- I got stucked on inf.\n",
    "death_rate = death_rate.replace([float('inf'), -float('inf')], float('nan')).dropna()\n",
    "\n",
    "highest_province = death_rate.idxmax()\n",
    "lowest_province = death_rate.idxmin()\n",
    "\n",
    "\n",
    "print(death_rate.sort_values(ascending=False))\n",
    "print(f\"\\nProvince with highest death rate: {highest_province}\")\n",
    "print(f\"Province with lowest death rate: {lowest_province}\")"
   ]
  },
  {
   "cell_type": "markdown",
   "id": "14b6c9ed",
   "metadata": {},
   "source": [
    "## Question 6: Data Transformation\n"
   ]
  },
  {
   "cell_type": "markdown",
   "id": "65736f31",
   "metadata": {},
   "source": [
    "### 6.1 :- Transform the 'deaths' dataset from wide format (where each column represents a date) to long format, where each row represents a single date, ensuring that the date column is in datetime format. How would this transformation be executed?\n",
    "\n",
    "Ans :-\n",
    "\n",
    "1. I will use the .melt() method of the pandas , this will melt down the structure for you where it takes all the column and make them rows and take their data and make them a row. Now if you want to intact some columns then you have to name them. and then you have to name a column where this all columns will come as rows and you have to also name a another column where the data of that columns will come.\n",
    "\n",
    "2. Now after that I converted the time into date_time and deaths count into float.\n"
   ]
  },
  {
   "cell_type": "code",
   "execution_count": 266,
   "id": "8ead3ef5",
   "metadata": {},
   "outputs": [
    {
     "data": {
      "text/html": [
       "<div>\n",
       "<style scoped>\n",
       "    .dataframe tbody tr th:only-of-type {\n",
       "        vertical-align: middle;\n",
       "    }\n",
       "\n",
       "    .dataframe tbody tr th {\n",
       "        vertical-align: top;\n",
       "    }\n",
       "\n",
       "    .dataframe thead th {\n",
       "        text-align: right;\n",
       "    }\n",
       "</style>\n",
       "<table border=\"1\" class=\"dataframe\">\n",
       "  <thead>\n",
       "    <tr style=\"text-align: right;\">\n",
       "      <th></th>\n",
       "      <th>Province/State</th>\n",
       "      <th>Country/Region</th>\n",
       "      <th>Lat</th>\n",
       "      <th>Long</th>\n",
       "      <th>Date</th>\n",
       "      <th>Deaths</th>\n",
       "    </tr>\n",
       "  </thead>\n",
       "  <tbody>\n",
       "    <tr>\n",
       "      <th>0</th>\n",
       "      <td>All Provinces</td>\n",
       "      <td>Afghanistan</td>\n",
       "      <td>33.93911</td>\n",
       "      <td>67.709953</td>\n",
       "      <td>2020-01-22</td>\n",
       "      <td>0.0</td>\n",
       "    </tr>\n",
       "    <tr>\n",
       "      <th>1</th>\n",
       "      <td>All Provinces</td>\n",
       "      <td>Albania</td>\n",
       "      <td>41.1533</td>\n",
       "      <td>20.1683</td>\n",
       "      <td>2020-01-22</td>\n",
       "      <td>0.0</td>\n",
       "    </tr>\n",
       "    <tr>\n",
       "      <th>2</th>\n",
       "      <td>All Provinces</td>\n",
       "      <td>Algeria</td>\n",
       "      <td>28.0339</td>\n",
       "      <td>1.6596</td>\n",
       "      <td>2020-01-22</td>\n",
       "      <td>0.0</td>\n",
       "    </tr>\n",
       "    <tr>\n",
       "      <th>3</th>\n",
       "      <td>All Provinces</td>\n",
       "      <td>Andorra</td>\n",
       "      <td>42.5063</td>\n",
       "      <td>1.5218</td>\n",
       "      <td>2020-01-22</td>\n",
       "      <td>0.0</td>\n",
       "    </tr>\n",
       "    <tr>\n",
       "      <th>4</th>\n",
       "      <td>All Provinces</td>\n",
       "      <td>Angola</td>\n",
       "      <td>-11.2027</td>\n",
       "      <td>17.8739</td>\n",
       "      <td>2020-01-22</td>\n",
       "      <td>0.0</td>\n",
       "    </tr>\n",
       "    <tr>\n",
       "      <th>...</th>\n",
       "      <td>...</td>\n",
       "      <td>...</td>\n",
       "      <td>...</td>\n",
       "      <td>...</td>\n",
       "      <td>...</td>\n",
       "      <td>...</td>\n",
       "    </tr>\n",
       "    <tr>\n",
       "      <th>136339</th>\n",
       "      <td>All Provinces</td>\n",
       "      <td>Vietnam</td>\n",
       "      <td>14.058324</td>\n",
       "      <td>108.277199</td>\n",
       "      <td>2021-05-29</td>\n",
       "      <td>47.0</td>\n",
       "    </tr>\n",
       "    <tr>\n",
       "      <th>136340</th>\n",
       "      <td>All Provinces</td>\n",
       "      <td>West Bank and Gaza</td>\n",
       "      <td>31.9522</td>\n",
       "      <td>35.2332</td>\n",
       "      <td>2021-05-29</td>\n",
       "      <td>3492.0</td>\n",
       "    </tr>\n",
       "    <tr>\n",
       "      <th>136341</th>\n",
       "      <td>All Provinces</td>\n",
       "      <td>Yemen</td>\n",
       "      <td>15.552727</td>\n",
       "      <td>48.516388</td>\n",
       "      <td>2021-05-29</td>\n",
       "      <td>1319.0</td>\n",
       "    </tr>\n",
       "    <tr>\n",
       "      <th>136342</th>\n",
       "      <td>All Provinces</td>\n",
       "      <td>Zambia</td>\n",
       "      <td>-13.133897</td>\n",
       "      <td>27.849332</td>\n",
       "      <td>2021-05-29</td>\n",
       "      <td>1276.0</td>\n",
       "    </tr>\n",
       "    <tr>\n",
       "      <th>136343</th>\n",
       "      <td>All Provinces</td>\n",
       "      <td>Zimbabwe</td>\n",
       "      <td>-19.015438</td>\n",
       "      <td>29.154857</td>\n",
       "      <td>2021-05-29</td>\n",
       "      <td>1594.0</td>\n",
       "    </tr>\n",
       "  </tbody>\n",
       "</table>\n",
       "<p>136344 rows × 6 columns</p>\n",
       "</div>"
      ],
      "text/plain": [
       "       Province/State      Country/Region         Lat        Long       Date  \\\n",
       "0       All Provinces         Afghanistan    33.93911   67.709953 2020-01-22   \n",
       "1       All Provinces             Albania     41.1533     20.1683 2020-01-22   \n",
       "2       All Provinces             Algeria     28.0339      1.6596 2020-01-22   \n",
       "3       All Provinces             Andorra     42.5063      1.5218 2020-01-22   \n",
       "4       All Provinces              Angola    -11.2027     17.8739 2020-01-22   \n",
       "...               ...                 ...         ...         ...        ...   \n",
       "136339  All Provinces             Vietnam   14.058324  108.277199 2021-05-29   \n",
       "136340  All Provinces  West Bank and Gaza     31.9522     35.2332 2021-05-29   \n",
       "136341  All Provinces               Yemen   15.552727   48.516388 2021-05-29   \n",
       "136342  All Provinces              Zambia  -13.133897   27.849332 2021-05-29   \n",
       "136343  All Provinces            Zimbabwe  -19.015438   29.154857 2021-05-29   \n",
       "\n",
       "        Deaths  \n",
       "0          0.0  \n",
       "1          0.0  \n",
       "2          0.0  \n",
       "3          0.0  \n",
       "4          0.0  \n",
       "...        ...  \n",
       "136339    47.0  \n",
       "136340  3492.0  \n",
       "136341  1319.0  \n",
       "136342  1276.0  \n",
       "136343  1594.0  \n",
       "\n",
       "[136344 rows x 6 columns]"
      ]
     },
     "execution_count": 266,
     "metadata": {},
     "output_type": "execute_result"
    }
   ],
   "source": [
    "## Death data set\n",
    "\n",
    "death_cases_data_long = pd.melt(\n",
    "    death_cases_data,\n",
    "    id_vars=['Province/State', 'Country/Region', 'Lat', 'Long'],\n",
    "    var_name='Date', \n",
    "    value_name='Deaths'\n",
    ")\n",
    "\n",
    "\n",
    "death_cases_data_long['Date'] = pd.to_datetime(death_cases_data_long['Date'], format='%m/%d/%y')\n",
    "\n",
    "death_cases_data_long['Deaths'] = death_cases_data_long['Deaths'].astype(float)\n",
    "\n",
    "death_cases_data_long\n"
   ]
  },
  {
   "cell_type": "markdown",
   "id": "2740305a",
   "metadata": {},
   "source": [
    "### 6.2 :- What is the total number of deaths reported per country up to the current date?\n",
    "\n",
    "Ans :-\n",
    "\n",
    "1. First I will choose only date_columns\n",
    "2. Now I will convert all the data of this date columns into numeric\n",
    "3. Now I group the data by country.\n",
    "4. I will retrive the latest date\n",
    "5. then pass the latest date in grouped ones to get the current_deaths.\n"
   ]
  },
  {
   "cell_type": "code",
   "execution_count": 283,
   "id": "fb4317ee",
   "metadata": {},
   "outputs": [
    {
     "data": {
      "text/plain": [
       "Country/Region\n",
       "Afghanistan    2899\n",
       "Albania        2449\n",
       "Algeria        3460\n",
       "Andorra         127\n",
       "Angola          757\n",
       "Name: 5/29/21, dtype: int64"
      ]
     },
     "execution_count": 283,
     "metadata": {},
     "output_type": "execute_result"
    }
   ],
   "source": [
    "date_columns = death_cases_data.columns[4:]\n",
    "\n",
    "death_cases_data[date_columns] = death_cases_data[date_columns].apply(pd.to_numeric, errors='coerce')\n",
    "\n",
    "grouped_death_cases = death_cases_data.groupby('Country/Region')[date_columns].sum()\n",
    "\n",
    "latest_date = grouped_death_cases.columns[-1]\n",
    "\n",
    "\n",
    "till_current_date_deaths = grouped_death_cases[latest_date]\n",
    "\n",
    "till_current_date_deaths.head()\n"
   ]
  },
  {
   "cell_type": "markdown",
   "id": "c73e9d45",
   "metadata": {},
   "source": [
    "### 6.3: What are the top 5 countries with the highest average daily deaths?\n",
    "\n",
    "ans :\n",
    "\n",
    "1. First I will take only date columns and convert them to int so i can put some numerical operations\n",
    "2. Now i will group the data because I need to define highest avg in countries\n",
    "3. Now i will find the mean for whole grouped data by column , so for each row i will get mean of that row for that date_columns only.\n",
    "4. Now i will sort the values in descending and it's done.\n"
   ]
  },
  {
   "cell_type": "code",
   "execution_count": 293,
   "id": "da20f0ad",
   "metadata": {},
   "outputs": [
    {
     "data": {
      "text/plain": [
       "Country/Region\n",
       "US                250234.906883\n",
       "Brazil            147013.327935\n",
       "India              89935.410931\n",
       "Mexico             87057.647773\n",
       "United Kingdom     58560.327935\n",
       "dtype: float64"
      ]
     },
     "execution_count": 293,
     "metadata": {},
     "output_type": "execute_result"
    }
   ],
   "source": [
    "date_columns = death_cases_data.columns[4:]\n",
    "death_cases_data[date_columns] = death_cases_data[date_columns].apply(pd.to_numeric, errors='coerce')\n",
    "\n",
    "grouped_death_cases = death_cases_data.groupby('Country/Region')[date_columns].sum()\n",
    "\n",
    "avg_death_all_countries = grouped_death_cases.mean(axis=1)\n",
    "\n",
    "avg_death_all_countries_sorted = avg_death_all_countries.sort_values(ascending=False)\n",
    "\n",
    "avg_death_all_countries_sorted.head(5)"
   ]
  },
  {
   "cell_type": "markdown",
   "id": "6816fd80",
   "metadata": {},
   "source": [
    "### 6.4 :- How have the total deaths evolved over time in the United States?\n",
    "\n",
    "Ans :-\n",
    "\n",
    "1. First I will seperate the death data of Us\n",
    "2. then I will drop all the columns which are not dates\n",
    "3. Now I transpose the matrix because I wants the date to be index\n",
    "4. Now we convert our indexs in datetime format so it wont' affect our graph.\n",
    "5. Now we plot a simple graph where x-axis represent time and y-axis represent count.\n"
   ]
  },
  {
   "cell_type": "code",
   "execution_count": 311,
   "id": "7771db0b",
   "metadata": {},
   "outputs": [
    {
     "data": {
      "image/png": "[encoded data removed]",
      "text/plain": [
       "<Figure size 1200x600 with 1 Axes>"
      ]
     },
     "metadata": {},
     "output_type": "display_data"
    }
   ],
   "source": [
    "death_cases_in_us = death_cases_data[death_cases_data['Country/Region'] == \"US\"]\n",
    "\n",
    "death_cases_in_us = death_cases_in_us.drop(columns=['Lat','Long','Province/State','Country/Region'])\n",
    "\n",
    "death_cases_in_us = death_cases_in_us.T\n",
    "\n",
    "death_cases_in_us.index = pd.to_datetime(death_cases_in_us.index,format='%m/%d/%y')\n",
    "\n",
    "plt.figure(figsize=(12,6))\n",
    "plt.plot(death_cases_in_us.index, death_cases_in_us.values, color='red')\n",
    "plt.title('Total COVID-19 Deaths Over Time in the United States')\n",
    "plt.xlabel('Date')\n",
    "plt.ylabel('Total Deaths')\n",
    "plt.grid(True)\n",
    "plt.show()"
   ]
  },
  {
   "cell_type": "markdown",
   "id": "0312ac11",
   "metadata": {},
   "source": [
    "## Q 7 :- DATA MERGING\n"
   ]
  },
  {
   "cell_type": "markdown",
   "id": "c14d29ee",
   "metadata": {},
   "source": [
    "### Q7.1: How would you merge the transformed datasets of confirmed cases, deaths, and recoveries on the 'Country/Region' and 'Date' columns to create a comprehensive view of the pandemic's impact?\n",
    "\n",
    "Ans :-\n",
    "\n",
    "1. First I will remove the unwanted columns from all the three data.\n",
    "2. I melt down the data in the long format to do the operation same like we did earlier\n",
    "3. Now I will convert the date into the date_type\n",
    "4. Now merge all the data one by one\n"
   ]
  },
  {
   "cell_type": "code",
   "execution_count": 2,
   "id": "25506434",
   "metadata": {},
   "outputs": [
    {
     "ename": "NameError",
     "evalue": "name 'confirmed_cases_data' is not defined",
     "output_type": "error",
     "traceback": [
      "\u001b[31m---------------------------------------------------------------------------\u001b[39m",
      "\u001b[31mNameError\u001b[39m                                 Traceback (most recent call last)",
      "\u001b[36mCell\u001b[39m\u001b[36m \u001b[39m\u001b[32mIn[2]\u001b[39m\u001b[32m, line 3\u001b[39m\n\u001b[32m      1\u001b[39m \u001b[38;5;66;03m# Drop the columns listed in named_cols from confirmed_cases_data\u001b[39;00m\n\u001b[32m      2\u001b[39m named_cols = [\u001b[33m'\u001b[39m\u001b[33mProvince/State\u001b[39m\u001b[33m'\u001b[39m,\u001b[33m'\u001b[39m\u001b[33mLat\u001b[39m\u001b[33m'\u001b[39m,\u001b[33m'\u001b[39m\u001b[33mLong\u001b[39m\u001b[33m'\u001b[39m]\n\u001b[32m----> \u001b[39m\u001b[32m3\u001b[39m confirmed_cases_data_dupli = \u001b[43mconfirmed_cases_data\u001b[49m.drop(named_cols, axis=\u001b[32m1\u001b[39m)\n\u001b[32m      4\u001b[39m deaths_cases_data_dupli = death_cases_data.drop(named_cols, axis=\u001b[32m1\u001b[39m)\n\u001b[32m      5\u001b[39m recovered_cases_data_dupli = recovered_cases_data.drop(named_cols, axis=\u001b[32m1\u001b[39m)\n",
      "\u001b[31mNameError\u001b[39m: name 'confirmed_cases_data' is not defined"
     ]
    }
   ],
   "source": [
    "# Drop the columns listed in named_cols from confirmed_cases_data\n",
    "named_cols = ['Province/State','Lat','Long']\n",
    "confirmed_cases_data_dupli = confirmed_cases_data.drop(named_cols, axis=1)\n",
    "deaths_cases_data_dupli = death_cases_data.drop(named_cols, axis=1)\n",
    "recovered_cases_data_dupli = recovered_cases_data.drop(named_cols, axis=1)\n",
    "\n",
    "\n",
    "confirmed_long = confirmed_cases_data_dupli.melt(id_vars=['Country/Region'], \n",
    "                                    var_name='Date', \n",
    "                                    value_name='Confirmed')\n",
    "\n",
    "deaths_long = deaths_cases_data_dupli.melt(id_vars=['Country/Region'], \n",
    "                                    var_name='Date', \n",
    "                                    value_name='Deaths')\n",
    "\n",
    "recovered_long = recovered_cases_data_dupli.melt(id_vars=['Country/Region'], \n",
    "                                    var_name='Date', \n",
    "                                    value_name='Recovered')\n",
    "\n",
    "\n",
    "confirmed_long['Date'] = pd.to_datetime(confirmed_long['Date'], errors='coerce',format='%m/%d/%y')\n",
    "deaths_long['Date'] = pd.to_datetime(deaths_long['Date'], errors='coerce',format='%m/%d/%y')\n",
    "recovered_long['Date'] = pd.to_datetime(recovered_long['Date'], errors='coerce',format='%m/%d/%y')\n",
    "\n",
    "merged_data = confirmed_long.merge(deaths_long, on=['Country/Region', 'Date'])\n",
    "merged_data = merged_data.merge(recovered_long, on=['Country/Region', 'Date'])\n",
    "\n",
    "merged_data.head(1000)\n"
   ]
  },
  {
   "cell_type": "markdown",
   "id": "07bbc2db",
   "metadata": {},
   "source": [
    "### 7.2 :- Analyze the monthly sum of confirmed cases, deaths, and recoveries for countries to understand the progression of the pandemic.[From the merged dataset].\n",
    "\n",
    "Ans :-\n",
    "a. I will add a new column 'Month' and retrive the month form the data (Used Ai here)\n",
    "b. Then I will group by Country and Month and sum all the cases.\n",
    "c. done.\n"
   ]
  },
  {
   "cell_type": "code",
   "execution_count": null,
   "id": "ca7848b4",
   "metadata": {},
   "outputs": [],
   "source": [
    "# Add a 'Month' column to merged_data\n",
    "# .dt.to_period('M') converts the datetime in 'Date' column to a monthly period (e.g., 2020-03)\n",
    "# This allows us to group data by month easily, rather than by exact date.\n",
    "merged_data['Month'] = merged_data['Date'].dt.to_period('M')\n",
    "\n",
    "# Group by Country/Region and Month, then sum the cases\n",
    "monthly_summary = merged_data.groupby(['Country/Region', 'Month'])[['Confirmed', 'Deaths', 'Recovered']].sum().reset_index()\n",
    "\n",
    "monthly_summary.head()"
   ]
  },
  {
   "cell_type": "markdown",
   "id": "5590783c",
   "metadata": {},
   "source": [
    "### 7.3 :- Redo the analysis in Question 7.2 for the United States, Italy, and Brazil.\n",
    "\n",
    "Ans :-\n",
    "Now I already have monthly_summary with me\n",
    "\n",
    "1. I will put the countries i want to do the analysis\n",
    "2. Now I will pick those three countries analysis specifically in new varaible\n",
    "   and done\n"
   ]
  },
  {
   "cell_type": "code",
   "execution_count": null,
   "id": "098cdaf1",
   "metadata": {},
   "outputs": [],
   "source": [
    "selected_countries = ['US', 'Italy', 'Brazil']\n",
    "monthly_summary_selected = monthly_summary[monthly_summary['Country/Region'].isin(selected_countries)]\n",
    "\n",
    "# Display the first few rows for these countries\n",
    "monthly_summary_selected.head()"
   ]
  },
  {
   "cell_type": "markdown",
   "id": "465a2b02",
   "metadata": {},
   "source": [
    "## Question 8: Combined Data Analysis\n"
   ]
  },
  {
   "cell_type": "markdown",
   "id": "5cba8bfa",
   "metadata": {},
   "source": [
    "### Q8.1: For the combined dataset, identify the three countries with the highest average death rates (deaths/confirmed cases) throughout 2020. What might this indicate about the pandemic's impact in these countries?\n",
    "\n",
    "Ans :-\n",
    "\n",
    "1. Firstly I will conditionaly pick the data from 1 jan 2020 to 31 dec 2020\n",
    "2. Now from the new_mergeddata I will convert the confirmed and deaths columns into numeric because we have to do divide operation here for death rates\n",
    "3. Now I create a column in newly merged deathRate and divide both.\n",
    "4. now I willl remove the Infinte values (Used AI here )\n",
    "5. Now to find avg death rates , I will group the data in country/Region and find the means of the death Rate and the sort the results.\n",
    "   done.\n"
   ]
  },
  {
   "cell_type": "code",
   "execution_count": 1,
   "id": "22f11612",
   "metadata": {},
   "outputs": [
    {
     "ename": "NameError",
     "evalue": "name 'merged_data' is not defined",
     "output_type": "error",
     "traceback": [
      "\u001b[31m---------------------------------------------------------------------------\u001b[39m",
      "\u001b[31mNameError\u001b[39m                                 Traceback (most recent call last)",
      "\u001b[36mCell\u001b[39m\u001b[36m \u001b[39m\u001b[32mIn[1]\u001b[39m\u001b[32m, line 1\u001b[39m\n\u001b[32m----> \u001b[39m\u001b[32m1\u001b[39m merged_2020 = \u001b[43mmerged_data\u001b[49m[(merged_data[\u001b[33m'\u001b[39m\u001b[33mDate\u001b[39m\u001b[33m'\u001b[39m] >= \u001b[33m'\u001b[39m\u001b[33m2020-01-01\u001b[39m\u001b[33m'\u001b[39m) & (merged_data[\u001b[33m'\u001b[39m\u001b[33mDate\u001b[39m\u001b[33m'\u001b[39m] <= \u001b[33m'\u001b[39m\u001b[33m2020-12-31\u001b[39m\u001b[33m'\u001b[39m)].copy()\n\u001b[32m      2\u001b[39m merged_2020[\u001b[33m'\u001b[39m\u001b[33mConfirmed\u001b[39m\u001b[33m'\u001b[39m] = pd.to_numeric(merged_2020[\u001b[33m'\u001b[39m\u001b[33mConfirmed\u001b[39m\u001b[33m'\u001b[39m], errors=\u001b[33m'\u001b[39m\u001b[33mcoerce\u001b[39m\u001b[33m'\u001b[39m)\n\u001b[32m      3\u001b[39m merged_2020[\u001b[33m'\u001b[39m\u001b[33mDeaths\u001b[39m\u001b[33m'\u001b[39m] = pd.to_numeric(merged_2020[\u001b[33m'\u001b[39m\u001b[33mDeaths\u001b[39m\u001b[33m'\u001b[39m], errors=\u001b[33m'\u001b[39m\u001b[33mcoerce\u001b[39m\u001b[33m'\u001b[39m)\n",
      "\u001b[31mNameError\u001b[39m: name 'merged_data' is not defined"
     ]
    }
   ],
   "source": [
    "merged_2020 = merged_data[(merged_data['Date'] >= '2020-01-01') & (merged_data['Date'] <= '2020-12-31')].copy()\n",
    "merged_2020['Confirmed'] = pd.to_numeric(merged_2020['Confirmed'], errors='coerce')\n",
    "merged_2020['Deaths'] = pd.to_numeric(merged_2020['Deaths'], errors='coerce')\n",
    "\n",
    "merged_2020['DeathRate'] = merged_2020['Deaths'] / merged_2020['Confirmed']\n",
    "merged_2020['DeathRate'] = merged_2020['DeathRate'].replace([float('inf'), -float('inf')], float('nan'))\n",
    "\n",
    "avg_death_rate_2020 = merged_2020.groupby('Country/Region')['DeathRate'].mean().sort_values(ascending=False)\n",
    "\n",
    "\n",
    "top3_death_rate_countries.head(3)"
   ]
  },
  {
   "cell_type": "markdown",
   "id": "1ac1eaae",
   "metadata": {},
   "source": [
    "### Q8.2: Using the merged dataset, compare the total number of recoveries to the total number of deaths in South Africa. What can this tell us about the outcomes of COVID-19 cases in the country?\n",
    "\n",
    "Ans :-\n",
    "\n",
    "1. Now in order to do this question I will first extract the South Africa data from the Merged data\n",
    "2. Now then we extract the latest date from the South Africa's Data\n",
    "3. Now we use this latest data to extract the latest data.\n",
    "4. Now from this latest data we will sum all recovered and sum all deaths\n",
    "5. If Recovered are greater than deaths than country going good.\n"
   ]
  },
  {
   "cell_type": "code",
   "execution_count": null,
   "id": "cc5ef26b",
   "metadata": {},
   "outputs": [
    {
     "ename": "NameError",
     "evalue": "name 'merged_data' is not defined",
     "output_type": "error",
     "traceback": [
      "\u001b[31m---------------------------------------------------------------------------\u001b[39m",
      "\u001b[31mNameError\u001b[39m                                 Traceback (most recent call last)",
      "\u001b[36mCell\u001b[39m\u001b[36m \u001b[39m\u001b[32mIn[4]\u001b[39m\u001b[32m, line 1\u001b[39m\n\u001b[32m----> \u001b[39m\u001b[32m1\u001b[39m sa_data = \u001b[43mmerged_data\u001b[49m[merged_data[\u001b[33m'\u001b[39m\u001b[33mCountry/Region\u001b[39m\u001b[33m'\u001b[39m] == \u001b[33m'\u001b[39m\u001b[33mSouth Africa\u001b[39m\u001b[33m'\u001b[39m]\n\u001b[32m      3\u001b[39m latest_date = sa_data[\u001b[33m'\u001b[39m\u001b[33mDate\u001b[39m\u001b[33m'\u001b[39m].max()\n\u001b[32m      4\u001b[39m sa_latest = sa_data[sa_data[\u001b[33m'\u001b[39m\u001b[33mDate\u001b[39m\u001b[33m'\u001b[39m] == latest_date]\n",
      "\u001b[31mNameError\u001b[39m: name 'merged_data' is not defined"
     ]
    }
   ],
   "source": [
    "sa_data = merged_data[merged_data['Country/Region'] == 'South Africa']\n",
    "\n",
    "latest_date = sa_data['Date'].max() \n",
    "sa_latest = sa_data[sa_data['Date'] == latest_date] \n",
    "\n",
    "\n",
    "total_recovered = sa_latest['Recovered'].sum()\n",
    "total_deaths = sa_latest['Deaths'].sum()\n",
    "\n",
    "print(\"🇿🇦 South Africa on\", latest_date.date())\n",
    "print(\"Total Recoveries:\", total_recovered)\n",
    "print(\"Total Deaths:\", total_deaths)\n",
    "\n",
    "# Compare\n",
    "if total_recovered > total_deaths:\n",
    "    print(\"Most COVID-19 cases recovered.\")\n",
    "else:\n",
    "    print(\"More people died than recovered\")"
   ]
  },
  {
   "cell_type": "markdown",
   "id": "e2c97257",
   "metadata": {},
   "source": [
    "### Q8.3: Analyze the ratio of recoveries to confirmed cases for the United States monthly from March 2020 to May 2021. Which month experienced the highest recovery ratio, and what could be the potential reasons?\n",
    "\n",
    "Ans :-\n",
    "\n",
    "1. First I will filter the data for Us and from a specific date range and make a copy of it.\n",
    "\n",
    "2. Then I will add the month column in it.\n",
    "\n",
    "3. Now I will group the data on the basis of Month and sum the recovered and confirmed columns.\n",
    "\n",
    "4. Now to calculate recover ratio I will create a column of recovered ratio in that grouped data and divide the recovered / confirmed.\n",
    "\n",
    "5. Now I will find the month with highest recover ratio and also it's value.\n",
    "\n",
    "6. It will do.\n"
   ]
  },
  {
   "cell_type": "code",
   "execution_count": null,
   "id": "cb8bedeb",
   "metadata": {},
   "outputs": [],
   "source": [
    "# Filter for US and date range\n",
    "us_data = merged_data[(merged_data['Country/Region'] == 'US') &\n",
    "                    (merged_data['Date'] >= '2020-03-01') &\n",
    "                    (merged_data['Date'] <= '2021-05-31')].copy()\n",
    "\n",
    "# Add 'Month' column\n",
    "us_data['Month'] = us_data['Date'].dt.to_period('M')\n",
    "\n",
    "# Group by month and sum recoveries and confirmed cases\n",
    "monthly_us = us_data.groupby('Month')[['Recovered', 'Confirmed']].sum()\n",
    "\n",
    "# Calculate recovery ratio\n",
    "monthly_us['RecoveryRatio'] = monthly_us['Recovered'] / monthly_us['Confirmed']\n",
    "\n",
    "# Find the month with the highest recovery ratio\n",
    "max_month = monthly_us['RecoveryRatio'].idxmax()\n",
    "max_ratio = monthly_us['RecoveryRatio'].max()\n",
    "\n",
    "print(\"Month with highest recovery ratio:\", max_month)\n",
    "print(\"Highest recovery ratio:\", max_ratio)\n",
    "monthly_us"
   ]
  }
 ],
 "metadata": {
  "kernelspec": {
   "display_name": "Python 3",
   "language": "python",
   "name": "python3"
  },
  "language_info": {
   "codemirror_mode": {
    "name": "ipython",
    "version": 3
   },
   "file_extension": ".py",
   "mimetype": "text/x-python",
   "name": "python",
   "nbconvert_exporter": "python",
   "pygments_lexer": "ipython3",
   "version": "3.12.6"
  }
 },
 "nbformat": 4,
 "nbformat_minor": 5
}
